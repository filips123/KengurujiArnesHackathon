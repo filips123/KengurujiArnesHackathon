{
 "cells": [
  {
   "metadata": {},
   "cell_type": "markdown",
   "source": "Before running, download the source data from [JGP](https://ipi.eprostor.gov.si/jgp-service-api/display-views/groups/85/files/524) and extract them into the `sources` directory.",
   "id": "6d270e1381641409"
  },
  {
   "cell_type": "code",
   "id": "initial_id",
   "metadata": {
    "collapsed": true,
    "ExecuteTime": {
     "end_time": "2024-05-12T13:32:04.035701Z",
     "start_time": "2024-05-12T13:32:04.032309Z"
    }
   },
   "source": [
    "from pyogrio import read_dataframe\n",
    "import pickle\n",
    "import gzip"
   ],
   "outputs": [],
   "execution_count": 4
  },
  {
   "metadata": {
    "ExecuteTime": {
     "end_time": "2024-05-12T13:27:45.490493Z",
     "start_time": "2024-05-12T13:27:27.906685Z"
    }
   },
   "cell_type": "code",
   "source": "shapefile = read_dataframe(\"sources/EL_VISINSKETOCKE_T.shp\")",
   "id": "df99f0492a4ff3fd",
   "outputs": [],
   "execution_count": 2
  },
  {
   "metadata": {
    "ExecuteTime": {
     "end_time": "2024-05-12T13:34:17.726001Z",
     "start_time": "2024-05-12T13:33:51.062154Z"
    }
   },
   "cell_type": "code",
   "source": [
    "with gzip.open(\"heightmap/heightpoints.gz\", \"wb\") as picklefile:\n",
    "    pickle.dump(shapefile, picklefile)"
   ],
   "id": "be411cbc503be0bd",
   "outputs": [],
   "execution_count": 6
  }
 ],
 "metadata": {
  "kernelspec": {
   "display_name": "Python 3",
   "language": "python",
   "name": "python3"
  },
  "language_info": {
   "codemirror_mode": {
    "name": "ipython",
    "version": 2
   },
   "file_extension": ".py",
   "mimetype": "text/x-python",
   "name": "python",
   "nbconvert_exporter": "python",
   "pygments_lexer": "ipython2",
   "version": "2.7.6"
  }
 },
 "nbformat": 4,
 "nbformat_minor": 5
}
