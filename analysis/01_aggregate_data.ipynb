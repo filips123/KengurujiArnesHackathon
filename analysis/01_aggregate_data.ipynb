{
 "cells": [
  {
   "cell_type": "code",
   "id": "initial_id",
   "metadata": {
    "collapsed": true,
    "ExecuteTime": {
     "end_time": "2024-05-13T16:42:57.570696Z",
     "start_time": "2024-05-13T16:42:57.131459Z"
    }
   },
   "source": [
    "from pathlib import Path\n",
    "\n",
    "import pandas as pd"
   ],
   "outputs": [],
   "execution_count": 1
  },
  {
   "metadata": {
    "ExecuteTime": {
     "end_time": "2024-05-13T16:43:17.462069Z",
     "start_time": "2024-05-13T16:42:57.572693Z"
    }
   },
   "cell_type": "code",
   "source": [
    "for file in Path(\"../dataset/hydro/raw\").glob(\"*.csv\"):\n",
    "    print(\"Processing\", file.name)\n",
    "\n",
    "    # Read CSV as dataframe\n",
    "    df = pd.read_csv(file)\n",
    "\n",
    "    # Clear whitespace in some columns\n",
    "    df.columns = df.columns.str.strip()\n",
    "    df[\"Q\"] = pd.to_numeric(df[\"Q\"], errors=\"coerce\")\n",
    "\n",
    "    # Set date as index\n",
    "    df[\"datum\"] = pd.to_datetime(df[\"datum\"])\n",
    "    df.set_index(\"datum\", inplace=True)\n",
    "\n",
    "    # Aggregate data per hour\n",
    "    aggregated = df.resample(\"h\").mean()\n",
    "    aggregated.to_csv(f\"../dataset/hydro/aggregated/{file.name}\")"
   ],
   "id": "936c53e279a6ef21",
   "outputs": [
    {
     "name": "stdout",
     "output_type": "stream",
     "text": [
      "Processing 2150.csv\n",
      "Processing 2160.csv\n",
      "Processing 2220.csv\n",
      "Processing 2250.csv\n",
      "Processing 2372.csv\n",
      "Processing 2420.csv\n",
      "Processing 2530.csv\n",
      "Processing 2600.csv\n",
      "Processing 2620.csv\n",
      "Processing 2640.csv\n",
      "Processing 2652.csv\n",
      "Processing 2667.csv\n",
      "Processing 2693.csv\n",
      "Processing 2719.csv\n",
      "Processing 2754.csv\n",
      "Processing 2830.csv\n",
      "Processing 2880.csv\n",
      "Processing 2900.csv\n",
      "Processing 3014.csv\n",
      "Processing 3080.csv\n",
      "Processing 3180.csv\n",
      "Processing 3200.csv\n",
      "Processing 3250.csv\n",
      "Processing 3260.csv\n",
      "Processing 3300.csv\n",
      "Processing 3320.csv\n",
      "Processing 3420.csv\n",
      "Processing 3465.csv\n",
      "Processing 3530.csv\n",
      "Processing 3660.csv\n",
      "Processing 3725.csv\n",
      "Processing 3850.csv\n",
      "Processing 3900.csv\n",
      "Processing 4025.csv\n",
      "Processing 4050.csv\n",
      "Processing 4120.csv\n",
      "Processing 4155.csv\n",
      "Processing 4200.csv\n",
      "Processing 4209.csv\n",
      "Processing 4222.csv\n",
      "Processing 4230.csv\n",
      "Processing 4298.csv\n",
      "Processing 4400.csv\n",
      "Processing 4430.csv\n",
      "Processing 4445.csv\n",
      "Processing 4480.csv\n",
      "Processing 4515.csv\n",
      "Processing 4520.csv\n",
      "Processing 4570.csv\n",
      "Processing 4575.csv\n",
      "Processing 4626.csv\n",
      "Processing 4650.csv\n",
      "Processing 4671.csv\n",
      "Processing 4695.csv\n",
      "Processing 4706.csv\n",
      "Processing 5030.csv\n",
      "Processing 5078.csv\n",
      "Processing 5240.csv\n",
      "Processing 5270.csv\n",
      "Processing 5330.csv\n",
      "Processing 5425.csv\n",
      "Processing 5440.csv\n",
      "Processing 5479.csv\n",
      "Processing 5500.csv\n",
      "Processing 5540.csv\n",
      "Processing 6020.csv\n",
      "Processing 6060.csv\n",
      "Processing 6068.csv\n",
      "Processing 6120.csv\n",
      "Processing 6140.csv\n",
      "Processing 6200.csv\n",
      "Processing 6210.csv\n",
      "Processing 6220.csv\n",
      "Processing 6240.csv\n",
      "Processing 6280.csv\n",
      "Processing 6300.csv\n",
      "Processing 6340.csv\n",
      "Processing 6415.csv\n",
      "Processing 6550.csv\n",
      "Processing 6630.csv\n",
      "Processing 6691.csv\n",
      "Processing 6720.csv\n",
      "Processing 6770.csv\n",
      "Processing 6790.csv\n",
      "Processing 6835.csv\n",
      "Processing 7029.csv\n",
      "Processing 7060.csv\n",
      "Processing 7110.csv\n",
      "Processing 7160.csv\n",
      "Processing 7272.csv\n",
      "Processing 7340.csv\n",
      "Processing 7380.csv\n"
     ]
    }
   ],
   "execution_count": 2
  }
 ],
 "metadata": {
  "kernelspec": {
   "display_name": "Python 3",
   "language": "python",
   "name": "python3"
  },
  "language_info": {
   "codemirror_mode": {
    "name": "ipython",
    "version": 2
   },
   "file_extension": ".py",
   "mimetype": "text/x-python",
   "name": "python",
   "nbconvert_exporter": "python",
   "pygments_lexer": "ipython2",
   "version": "2.7.6"
  }
 },
 "nbformat": 4,
 "nbformat_minor": 5
}
