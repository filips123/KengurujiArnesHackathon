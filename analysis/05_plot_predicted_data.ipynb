{
 "cells": [
  {
   "cell_type": "code",
   "id": "initial_id",
   "metadata": {
    "collapsed": true,
    "ExecuteTime": {
     "end_time": "2024-05-14T11:20:39.332139Z",
     "start_time": "2024-05-14T11:20:31.448276Z"
    }
   },
   "source": [
    "import matplotlib.pyplot as plt\n",
    "import pandas as pd\n",
    "import torch\n",
    "import torch.nn as nn\n",
    "from joblib import load\n",
    "from sklearn.preprocessing import StandardScaler"
   ],
   "outputs": [],
   "execution_count": 1
  },
  {
   "metadata": {},
   "cell_type": "markdown",
   "source": "### Config",
   "id": "28cb315299deb8ca"
  },
  {
   "metadata": {
    "ExecuteTime": {
     "end_time": "2024-05-14T11:20:39.342755Z",
     "start_time": "2024-05-14T11:20:39.335126Z"
    }
   },
   "cell_type": "code",
   "source": [
    "target_gauge_id = 3900\n",
    "predict_next_hours = 12"
   ],
   "id": "2524291d4f3973c2",
   "outputs": [],
   "execution_count": 2
  },
  {
   "metadata": {},
   "cell_type": "markdown",
   "source": "### Data Loading",
   "id": "8b4e0f7a41d95ed8"
  },
  {
   "metadata": {
    "ExecuteTime": {
     "end_time": "2024-05-14T11:21:14.698192Z",
     "start_time": "2024-05-14T11:20:39.344744Z"
    }
   },
   "cell_type": "code",
   "source": [
    "data = pd.read_csv(f\"../dataset/processed/simple/{target_gauge_id}/{predict_next_hours}.gz\")\n",
    "data.dropna(how=\"any\", inplace=True)"
   ],
   "id": "82d6beeff0c80d24",
   "outputs": [],
   "execution_count": 3
  },
  {
   "metadata": {
    "ExecuteTime": {
     "end_time": "2024-05-14T11:21:14.760539Z",
     "start_time": "2024-05-14T11:21:14.700187Z"
    }
   },
   "cell_type": "code",
   "source": [
    "index = data.index\n",
    "x_data = data.loc[:, (data.columns != \"DATE\") & (data.columns != \"TARGET\")]\n",
    "y_data = data[\"TARGET\"]"
   ],
   "id": "cb38b7cc816f046c",
   "outputs": [],
   "execution_count": 4
  },
  {
   "metadata": {
    "ExecuteTime": {
     "end_time": "2024-05-14T11:21:14.779005Z",
     "start_time": "2024-05-14T11:21:14.765524Z"
    }
   },
   "cell_type": "code",
   "source": "len(index)",
   "id": "273ab1d2505be1ab",
   "outputs": [
    {
     "data": {
      "text/plain": [
       "2761"
      ]
     },
     "execution_count": 5,
     "metadata": {},
     "output_type": "execute_result"
    }
   ],
   "execution_count": 5
  },
  {
   "metadata": {},
   "cell_type": "markdown",
   "source": "### Data Processing",
   "id": "b63ea4d3ed717bd9"
  },
  {
   "metadata": {
    "ExecuteTime": {
     "end_time": "2024-05-14T11:21:15.238287Z",
     "start_time": "2024-05-14T11:21:14.781508Z"
    }
   },
   "cell_type": "code",
   "source": [
    "# Normalize datasets with scaler\n",
    "scaler = StandardScaler()\n",
    "x_scaled = scaler.fit_transform(x_data.values)"
   ],
   "id": "c3e911936b1a57de",
   "outputs": [],
   "execution_count": 6
  },
  {
   "metadata": {
    "ExecuteTime": {
     "end_time": "2024-05-14T11:21:15.287156Z",
     "start_time": "2024-05-14T11:21:15.240283Z"
    }
   },
   "cell_type": "code",
   "source": [
    "# Convert to PyTorch tensors\n",
    "x_tensor = torch.tensor(x_scaled, dtype=torch.float32)\n",
    "y_tensor = torch.tensor(y_data.values, dtype=torch.float32).view(-1, 1)"
   ],
   "id": "2a5d409bfe62c730",
   "outputs": [],
   "execution_count": 7
  },
  {
   "metadata": {},
   "cell_type": "markdown",
   "source": "### Model Setup",
   "id": "fbbd388cb64985ab"
  },
  {
   "metadata": {
    "ExecuteTime": {
     "end_time": "2024-05-14T11:21:17.101305Z",
     "start_time": "2024-05-14T11:21:15.289151Z"
    }
   },
   "cell_type": "code",
   "source": [
    "# Instantiate the model\n",
    "model = nn.Sequential(\n",
    "    nn.Linear(x_tensor.shape[1], x_tensor.shape[1] * 2),\n",
    "    nn.ReLU(),\n",
    "    nn.Linear(x_tensor.shape[1] * 2, x_tensor.shape[1]),\n",
    "    nn.ReLU(),\n",
    "    nn.Linear(x_tensor.shape[1], x_tensor.shape[1] // 4),\n",
    "    nn.ReLU(),\n",
    "    nn.Linear(x_tensor.shape[1] // 4, 1),\n",
    "    nn.Softplus(),\n",
    ")"
   ],
   "id": "c7c6efd6e0789549",
   "outputs": [],
   "execution_count": 8
  },
  {
   "metadata": {},
   "cell_type": "markdown",
   "source": "### Model Loading",
   "id": "22a4fe0a10406169"
  },
  {
   "metadata": {
    "ExecuteTime": {
     "end_time": "2024-05-14T11:21:17.641859Z",
     "start_time": "2024-05-14T11:21:17.103300Z"
    }
   },
   "cell_type": "code",
   "source": [
    "directory = f\"../models/simple/{target_gauge_id}\"\n",
    "\n",
    "# Load our scaler\n",
    "scaler = load(f\"{directory}/{predict_next_hours}.bin\")\n",
    "\n",
    "# Load our model\n",
    "model.load_state_dict(torch.load(f\"{directory}/{predict_next_hours}.pth\", map_location=torch.device(\"cpu\")))\n",
    "model.eval()"
   ],
   "id": "b2cf0b3885e0cb9e",
   "outputs": [
    {
     "data": {
      "text/plain": [
       "Sequential(\n",
       "  (0): Linear(in_features=5037, out_features=10074, bias=True)\n",
       "  (1): ReLU()\n",
       "  (2): Linear(in_features=10074, out_features=5037, bias=True)\n",
       "  (3): ReLU()\n",
       "  (4): Linear(in_features=5037, out_features=1259, bias=True)\n",
       "  (5): ReLU()\n",
       "  (6): Linear(in_features=1259, out_features=1, bias=True)\n",
       "  (7): Softplus(beta=1.0, threshold=20.0)\n",
       ")"
      ]
     },
     "execution_count": 9,
     "metadata": {},
     "output_type": "execute_result"
    }
   ],
   "execution_count": 9
  },
  {
   "metadata": {},
   "cell_type": "markdown",
   "source": "### Model Evaluation",
   "id": "f96841a40c766ff6"
  },
  {
   "metadata": {
    "ExecuteTime": {
     "end_time": "2024-05-14T11:21:22.514954Z",
     "start_time": "2024-05-14T11:21:17.643854Z"
    }
   },
   "cell_type": "code",
   "source": [
    "with torch.no_grad():\n",
    "    y_pred = pd.DataFrame(model(x_tensor).numpy(), columns=[\"PREDICTION\"])\n",
    "    results = pd.merge(y_data.reset_index(drop=True), y_pred, left_index=True, right_index=True)"
   ],
   "id": "1ca5a70fd7a06735",
   "outputs": [],
   "execution_count": 10
  },
  {
   "metadata": {
    "ExecuteTime": {
     "end_time": "2024-05-14T11:21:22.537272Z",
     "start_time": "2024-05-14T11:21:22.516948Z"
    }
   },
   "cell_type": "code",
   "source": "results",
   "id": "7ebef606413f6a6",
   "outputs": [
    {
     "data": {
      "text/plain": [
       "      TARGET  PREDICTION\n",
       "0      170.5  169.630219\n",
       "1      156.5  159.726654\n",
       "2      145.0  148.466934\n",
       "3      138.5  138.350372\n",
       "4      126.5  126.739113\n",
       "...      ...         ...\n",
       "2756   181.0  177.514771\n",
       "2757   175.0  164.719452\n",
       "2758   150.5  148.744568\n",
       "2759   133.0  130.731598\n",
       "2760   135.0  117.750145\n",
       "\n",
       "[2761 rows x 2 columns]"
      ],
      "text/html": [
       "<div>\n",
       "<style scoped>\n",
       "    .dataframe tbody tr th:only-of-type {\n",
       "        vertical-align: middle;\n",
       "    }\n",
       "\n",
       "    .dataframe tbody tr th {\n",
       "        vertical-align: top;\n",
       "    }\n",
       "\n",
       "    .dataframe thead th {\n",
       "        text-align: right;\n",
       "    }\n",
       "</style>\n",
       "<table border=\"1\" class=\"dataframe\">\n",
       "  <thead>\n",
       "    <tr style=\"text-align: right;\">\n",
       "      <th></th>\n",
       "      <th>TARGET</th>\n",
       "      <th>PREDICTION</th>\n",
       "    </tr>\n",
       "  </thead>\n",
       "  <tbody>\n",
       "    <tr>\n",
       "      <th>0</th>\n",
       "      <td>170.5</td>\n",
       "      <td>169.630219</td>\n",
       "    </tr>\n",
       "    <tr>\n",
       "      <th>1</th>\n",
       "      <td>156.5</td>\n",
       "      <td>159.726654</td>\n",
       "    </tr>\n",
       "    <tr>\n",
       "      <th>2</th>\n",
       "      <td>145.0</td>\n",
       "      <td>148.466934</td>\n",
       "    </tr>\n",
       "    <tr>\n",
       "      <th>3</th>\n",
       "      <td>138.5</td>\n",
       "      <td>138.350372</td>\n",
       "    </tr>\n",
       "    <tr>\n",
       "      <th>4</th>\n",
       "      <td>126.5</td>\n",
       "      <td>126.739113</td>\n",
       "    </tr>\n",
       "    <tr>\n",
       "      <th>...</th>\n",
       "      <td>...</td>\n",
       "      <td>...</td>\n",
       "    </tr>\n",
       "    <tr>\n",
       "      <th>2756</th>\n",
       "      <td>181.0</td>\n",
       "      <td>177.514771</td>\n",
       "    </tr>\n",
       "    <tr>\n",
       "      <th>2757</th>\n",
       "      <td>175.0</td>\n",
       "      <td>164.719452</td>\n",
       "    </tr>\n",
       "    <tr>\n",
       "      <th>2758</th>\n",
       "      <td>150.5</td>\n",
       "      <td>148.744568</td>\n",
       "    </tr>\n",
       "    <tr>\n",
       "      <th>2759</th>\n",
       "      <td>133.0</td>\n",
       "      <td>130.731598</td>\n",
       "    </tr>\n",
       "    <tr>\n",
       "      <th>2760</th>\n",
       "      <td>135.0</td>\n",
       "      <td>117.750145</td>\n",
       "    </tr>\n",
       "  </tbody>\n",
       "</table>\n",
       "<p>2761 rows × 2 columns</p>\n",
       "</div>"
      ]
     },
     "execution_count": 11,
     "metadata": {},
     "output_type": "execute_result"
    }
   ],
   "execution_count": 11
  },
  {
   "metadata": {
    "ExecuteTime": {
     "end_time": "2024-05-14T11:21:22.743318Z",
     "start_time": "2024-05-14T11:21:22.539264Z"
    }
   },
   "cell_type": "code",
   "source": [
    "plt.plot(index, results)\n",
    "plt.show()"
   ],
   "id": "b5d707ca2459f122",
   "outputs": [
    {
     "data": {
      "text/plain": [
       "<Figure size 640x480 with 1 Axes>"
      ],
      "image/png": "[encoded data removed]"
     },
     "metadata": {},
     "output_type": "display_data"
    }
   ],
   "execution_count": 12
  }
 ],
 "metadata": {
  "kernelspec": {
   "display_name": "Python 3",
   "language": "python",
   "name": "python3"
  },
  "language_info": {
   "codemirror_mode": {
    "name": "ipython",
    "version": 2
   },
   "file_extension": ".py",
   "mimetype": "text/x-python",
   "name": "python",
   "nbconvert_exporter": "python",
   "pygments_lexer": "ipython2",
   "version": "2.7.6"
  }
 },
 "nbformat": 4,
 "nbformat_minor": 5
}
